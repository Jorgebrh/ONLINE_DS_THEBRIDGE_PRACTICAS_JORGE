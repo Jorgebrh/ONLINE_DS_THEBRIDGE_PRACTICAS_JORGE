{
 "cells": [
  {
   "cell_type": "markdown",
   "id": "36ac688b",
   "metadata": {},
   "source": [
    "# Análisis comparativo empresarial frente al índice S&P 500"
   ]
  },
  {
   "cell_type": "markdown",
   "id": "54718e8a",
   "metadata": {},
   "source": [
    "Este trabajo tiene como objetivo el estudio del S&P500 e intentar ver si las grandes empresas del índice han tenido mejor evolución en relación a los precios que el índice completo en este último año. Para ello, además de las rentabilidades, hemos obtenido algunas variables más que iremos explicando para luego finalmente ver gráficamente como se ven representadas estas variables."
   ]
  },
  {
   "cell_type": "markdown",
   "id": "eac11474",
   "metadata": {},
   "source": [
    "Por tanto, la hipótesis principal que tendrá este análisis será:\n",
    "\n",
    "### ***Las 5 empresas más grandes del S&P 500 han conseguido batir al índice en rentabilidad***\n"
   ]
  },
  {
   "cell_type": "code",
   "execution_count": null,
   "id": "0763b8d4",
   "metadata": {},
   "outputs": [],
   "source": [
    "import pandas as pd\n",
    "import numpy as np\n",
    "import requests\n",
    "from bs4 import BeautifulSoup\n",
    "import sys\n",
    "sys.path.append('../utils')\n",
    "import funciones\n",
    "import importlib\n",
    "importlib.reload(funciones)\n",
    "from funciones import *\n",
    "import yfinance as yf"
   ]
  },
  {
   "cell_type": "markdown",
   "id": "afb4d94b",
   "metadata": {},
   "source": [
    "Lo primero que haremos será, mediante Web Scrapping sacar los nombres, símbolos y sector al que pertenecen las empresas que componen el índice. De esta manera podremos tener una idea más clara de él."
   ]
  },
  {
   "cell_type": "code",
   "execution_count": null,
   "id": "2f6470da",
   "metadata": {},
   "outputs": [],
   "source": [
    "url = \"https://en.wikipedia.org/wiki/List_of_S%26P_500_companies\"\n",
    "\n",
    "response = requests.get(url)\n",
    "response.raise_for_status()\n",
    "soup_wikipedia = BeautifulSoup(response.text, \"html.parser\")\n",
    "tabla = soup_wikipedia.find_all(\"table\", {\"id\": \"constituents\"})\n",
    "df = pd.read_html(str(tabla))[0]\n",
    "df_empresas = df[[\"Symbol\",\"Security\",\"GICS Sector\"]]\n",
    "df_empresas.to_csv(\"sp500_companies_names\", index = False)"
   ]
  },
  {
   "cell_type": "markdown",
   "id": "3afac944",
   "metadata": {},
   "source": [
    "Una vez sacados los datos del índice, utilizaremos la libreria yfinance para poder sacar los datos de cada una de las empresas así como del índice. Hemos utilizado solo 5 empresas del índice pero éstas representan el 25% del índice."
   ]
  },
  {
   "cell_type": "code",
   "execution_count": null,
   "id": "5e325911",
   "metadata": {},
   "outputs": [],
   "source": [
    "#Incluyo los tickers para sacar luego los dataframes\n",
    "apple = yf.Ticker(\"AAPL\") #Representa el 6.73% del índice\n",
    "microsoft = yf.Ticker(\"MSFT\") #Representa el 6.20% del índice\n",
    "nvidia = yf.Ticker(\"NVDA\") #Representa el 5.68% del indice\n",
    "amazon = yf.Ticker(\"AMZN\") #Representa el 3.78% del indice\n",
    "meta = yf.Ticker(\"META\") #Representa el 2.57% del indice\n",
    "sp500 = yf.Ticker(\"^GSPC\")\n",
    "\n",
    "df_apple = apple.history(start = \"2024-01-01\", end = \"2025-01-01\", interval = \"1d\")\n",
    "df_microsoft = microsoft.history(start = \"2024-01-01\", end = \"2025-01-01\", interval = \"1d\")\n",
    "df_nvidia = nvidia.history(start = \"2024-01-01\", end = \"2025-01-01\", interval = \"1d\")\n",
    "df_amazon = amazon.history(start = \"2024-01-01\", end = \"2025-01-01\", interval = \"1d\")\n",
    "df_meta = meta.history(start = \"2024-01-01\", end = \"2025-01-01\", interval = \"1d\")\n",
    "df_sp500 = sp500.history(start = \"2024-01-01\", end = \"2025-01-01\", interval = \"1d\")\n",
    "\n",
    "\n",
    "#Una vez sacados los dataframes, para poder guardarlos como excels,\n",
    "#como tienen un formato de fecha con zona horaria y esto no lo reconoce excel, tenemos que cambiar el tipo de fecha:\n",
    "for df in [df_apple, df_microsoft, df_nvidia, df_amazon, df_meta, df_sp500]:\n",
    "    df.reset_index(inplace=True)\n",
    "    df[\"Date\"] = pd.to_datetime(df[\"Date\"]).dt.tz_localize(None)\n",
    "\n",
    "#Ahora podemos guardar los datos por separado, cada uno en un excel que podremos ver en la carpeta data.\n",
    "df_apple.to_excel(\"../data/historico_apple.xlsx\", index=False)\n",
    "df_microsoft.to_excel(\"../data/historico_microsoft.xlsx\", index=False)\n",
    "df_nvidia.to_excel(\"../data/historico_nvidia.xlsx\", index=False)\n",
    "df_amazon.to_excel(\"../data/historico_amazon.xlsx\", index=False)\n",
    "df_meta.to_excel(\"../data/historico_meta.xlsx\", index=False)\n",
    "df_sp500.to_excel(\"../data/historico_sp500.xlsx\", index=False)\n",
    "\n"
   ]
  },
  {
   "cell_type": "markdown",
   "id": "7619bb64",
   "metadata": {},
   "source": [
    "Haremos ahora un paréntesis para explicar paso a paso las funciones utilizadas para finalmente crear unas tablas con los datos finales:"
   ]
  },
  {
   "cell_type": "code",
   "execution_count": null,
   "id": "0534207d",
   "metadata": {},
   "outputs": [],
   "source": [
    "#funcion para obtener la rentabilidad diaria de cada accion tomando en cuenta el precio de cierre\n",
    "\n",
    "def rentabilidad_diaria(df, columna_cierre = \"Close\"):\n",
    "    df[\"rentabilidad_diaria\"] = df[columna_cierre].pct_change()\n",
    "    return df.dropna()\n",
    "\n",
    "# Dentro del df tenemos distintas columnas de precios, pero utilizamos el de cierre porque es el que marca el precio fijo del día.\n",
    "\n",
    "#Funcion para obtener la rentabilidad anual:\n",
    "def rentabilidad_anual(df, columna_rentabilidad=\"rentabilidad_diaria\"):\n",
    "    numero_dias = len(df)\n",
    "    rentabilidad_anualizada = ((1 + df[columna_rentabilidad]).prod() ** (252 / numero_dias) - 1)*100\n",
    "    return round(rentabilidad_anualizada,2)\n",
    "\n",
    "#Para poder calcular la rentabilidad anual, sumamos 1 a cada rentabilidad diaria y las multiplicamos todas\n",
    "#Para poder conseguir el rendimiento total acumulado de todos los dias\n",
    "#Lo elevamos a esa fraccion para anualizar la rentabilidad utilizando 252 como númuro usual de dias hábiles en el mercado\n",
    "#bursátil entre los días totales recopilados.\n",
    "#Finalmente le restamos 1 y lo multiplicamos *100 para poder cambiar ese crecimiento en formato de rentabilidad.\n",
    "\n",
    "#Funcion para calcular la volatilidad anualizada que ha tenido cada empresa y el índice. \n",
    "\n",
    "def volatilidad_accion_anualizada(df, columna_rentabilidad=\"rentabilidad_diaria\"):\n",
    "    volatilidad = df[columna_rentabilidad].std() * np.sqrt(252)\n",
    "    return round(volatilidad,2)\n",
    "\n",
    "\n",
    "#Calculamos el ratio de Sharpe porque es una variable bastante importante de cara a estudiar valores de renta variable.\n",
    "\n",
    "def ratio_sharpe(df, columna_rentabilidad=\"rentabilidad_diaria\", rf = 0.04): # La rf corresponde con la tasa libre de riesgo. Hemos tomado una tasa \n",
    "#de 4% que es aproximadamente la que ha habido durante este año.\n",
    "    rent_anual = rentabilidad_anual(df, columna_rentabilidad) / 100\n",
    "    volatilidad = volatilidad_accion_anualizada(df,columna_rentabilidad)\n",
    "    sharpe =round((rent_anual-rf)/volatilidad,2)\n",
    "    return sharpe\n",
    "\n",
    "#Como el ratio de sharpe se utiliza para las acciones, necesitamos otra variable para relacionar\n",
    "#estas acciones con el índice. Para ello utilizaremos la beta.\n",
    "\n",
    "#La beta se utiliza para medir la volatilidad que ha tenido en este caso, las acciones frente al índice al que pertenecen.\n",
    "#a mayor beta, mayor sensibiliad tiene a las variaciones la acción frente a su índice en este caso.\n",
    "\n",
    "def beta_accion(df_accion,df_indice,columna_rentabilidad=\"rentabilidad_diaria\"):\n",
    "    returns_accion = df_accion[columna_rentabilidad].pct_change().dropna()\n",
    "    returns_indice = df_indice[columna_rentabilidad].pct_change().dropna()\n",
    "\n",
    "    covarianza = returns_accion.cov(returns_indice)\n",
    "    varianza_indice = returns_indice.var()\n",
    "    beta = round(covarianza/varianza_indice, 2)\n",
    "    return beta\n",
    "\n",
    "#Por último, utilizaremos la siguiente funcion para recopilar todos estos datos sacados:\n",
    "def detalle_accion(df, columna_rentabilidad=\"rentabilidad_diaria\", nombre_accion=\"Acción\", df_indice=None, columna_cierre=\"Close\", rf=0.04):\n",
    "    rent_anual = rentabilidad_anual(df, columna_rentabilidad)\n",
    "    volatilidad = volatilidad_accion_anualizada(df, columna_rentabilidad)\n",
    "    sharpe = ratio_sharpe(df, columna_rentabilidad, rf)\n",
    "    \n",
    "    if df_indice is not None:\n",
    "        beta = beta_accion(df, df_indice, columna_cierre)\n",
    "    else:\n",
    "        beta = None\n",
    "\n",
    "    resumen = pd.DataFrame({\n",
    "        \"Acción\": [nombre_accion],\n",
    "        \"Rentabilidad Anual (%)\": [rent_anual],\n",
    "        \"Volatilidad Anual\": [volatilidad],\n",
    "        \"Ratio de Sharpe\": [sharpe],\n",
    "        \"Beta\": [beta]\n",
    "    })\n",
    "\n",
    "    return resumen\n",
    "\n"
   ]
  },
  {
   "cell_type": "markdown",
   "id": "1897665c",
   "metadata": {},
   "source": [
    "A continuación sacaremos todos los datos calculados utilizando la última función explicada y los añadiremos a un dataframe común:"
   ]
  },
  {
   "cell_type": "code",
   "execution_count": null,
   "id": "9c155ece",
   "metadata": {},
   "outputs": [],
   "source": [
    "detalle_apple = detalle_accion(df_apple, nombre_accion=\"Apple\", df_indice=df_sp500)\n",
    "detalle_microsoft = detalle_accion(df_microsoft, nombre_accion=\"Microsoft\", df_indice=df_sp500)\n",
    "detalle_nvidia = detalle_accion(df_nvidia, nombre_accion=\"Nvidia\", df_indice=df_sp500)\n",
    "detalle_amazon = detalle_accion(df_amazon, nombre_accion=\"Amazon\", df_indice=df_sp500)\n",
    "detalle_meta = detalle_accion(df_meta, nombre_accion=\"Meta\", df_indice=df_sp500)\n",
    "detalle_sp500 = detalle_accion(df_sp500, nombre_accion=\"S&P 500\")\n",
    "\n",
    "df_datos_detalle = pd.concat([\n",
    "    detalle_apple,\n",
    "    detalle_microsoft,\n",
    "    detalle_nvidia,\n",
    "    detalle_amazon,\n",
    "    detalle_meta,\n",
    "    detalle_sp500\n",
    "], ignore_index=True)\n",
    "\n",
    "df_datos_detalle.to_excel(\"../data/detalle_acciones_SP500.xlsx\", index=True)"
   ]
  },
  {
   "cell_type": "markdown",
   "id": "b6885a0a",
   "metadata": {},
   "source": [
    "Una vez tenemos todos los datos en la misma tabla, para poder obtener una conclusión sobre nuestra hipótesis tuvimos que añadir una columna en la que incluyesemos la diferencia entre cada rentabilidad anual de cada acción con el índice para ver si se cumplía."
   ]
  },
  {
   "cell_type": "code",
   "execution_count": null,
   "id": "47287d1b",
   "metadata": {},
   "outputs": [],
   "source": [
    "df_completo = pd.read_excel(\"../data/detalle_acciones_SP500.xlsx\")\n",
    "\n",
    "rentabilidad_indice = df_completo.loc[df_completo[\"Acción\"] == \"S&P 500\", \"Rentabilidad Anual (%)\"].values[0]\n",
    "\n",
    "df_completo[\"Rentabilidad Comparada con el índice\"] = df_completo[\"Rentabilidad Anual (%)\"] - rentabilidad_indice\n",
    "\n",
    "df_completo.to_excel(\"../data/tabla_comparativa.xlsx\", index=False)"
   ]
  },
  {
   "cell_type": "markdown",
   "id": "cb6ea164",
   "metadata": {},
   "source": [
    "Finalmente obtenemos la siguiente tabla:\n",
    "\n",
    "![Análisis Rentabilidad frente al índice](../img/Análisis%20Rentabilidad%20frente%20al%20índice.png)"
   ]
  },
  {
   "cell_type": "markdown",
   "id": "b8f83ebb",
   "metadata": {},
   "source": [
    "Con esta tabla podemos llegar a la conclusion de que la única acción que no ha superado en rentabilidad anual al índice ha sido Microsoft."
   ]
  },
  {
   "cell_type": "markdown",
   "id": "13d04cb7",
   "metadata": {},
   "source": []
  }
 ],
 "metadata": {
  "language_info": {
   "name": "python"
  }
 },
 "nbformat": 4,
 "nbformat_minor": 5
}
