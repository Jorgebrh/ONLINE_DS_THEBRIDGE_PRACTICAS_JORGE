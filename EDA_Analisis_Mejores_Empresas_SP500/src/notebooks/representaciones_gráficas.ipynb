{
 "cells": [
  {
   "cell_type": "code",
   "execution_count": 1,
   "id": "c19a8309",
   "metadata": {},
   "outputs": [],
   "source": [
    "import pandas as pd\n",
    "import numpy as np\n",
    "import matplotlib.pyplot as plt\n",
    "import seaborn as sns"
   ]
  },
  {
   "cell_type": "code",
   "execution_count": null,
   "id": "2fbf1b30",
   "metadata": {},
   "outputs": [],
   "source": [
    "#Conseguimos las gráficas de líneas de cada una de las acciones y del índice   \n",
    "\n",
    "archivos = {\n",
    "    \"Apple\": \"../data/historico_Apple.xlsx\",\n",
    "    \"Microsoft\": \"../data/historico_Microsoft.xlsx\",\n",
    "    \"Nvidia\": \"../data/historico_Nvidia.xlsx\",\n",
    "    \"Amazon\": \"../data/historico_Amazon.xlsx\",\n",
    "    \"Meta\": \"../data/historico_Meta.xlsx\",\n",
    "    \"S&P 500\": \"../data/historico_SP500.xlsx\"\n",
    "}\n",
    "\n",
    "historico_todas = pd.DataFrame()\n",
    "\n",
    "for nombre, ruta in archivos.items():\n",
    "    df = pd.read_excel(ruta)\n",
    "    df[\"Date\"] = pd.to_datetime(df[\"Date\"])\n",
    "\n",
    "    plt.figure(figsize=(12, 5))\n",
    "    sns.lineplot(data=df, x=\"Date\", y=\"Close\")\n",
    "    plt.title(f\"Evolución del precio de cierre - {nombre}\")\n",
    "    plt.xlabel(\"Fecha\")\n",
    "    plt.ylabel(\"Precio de cierre\")\n",
    "    plt.grid(True)\n",
    "    plt.tight_layout()\n",
    "    plt.show()"
   ]
  },
  {
   "cell_type": "code",
   "execution_count": null,
   "id": "24fbc4f1",
   "metadata": {},
   "outputs": [],
   "source": [
    "#Comparacion histórico entre accion/indice\n",
    "\n",
    "archivos = {\n",
    "    \"Apple\": \"../data/historico_Apple.xlsx\",\n",
    "    \"Microsoft\": \"../data/historico_Microsoft.xlsx\",\n",
    "    \"Nvidia\": \"../data/historico_Nvidia.xlsx\",\n",
    "    \"Amazon\": \"../data/historico_Amazon.xlsx\",\n",
    "    \"Meta\": \"../data/historico_Meta.xlsx\",\n",
    "    \"S&P 500\": \"../data/historico_SP500.xlsx\"\n",
    "}\n",
    "\n",
    "df_sp500 = pd.read_excel(\"../data/historico_SP500.xlsx\")\n",
    "df_sp500[\"Fecha\"] = pd.to_datetime(df_sp500[\"Date\"])\n",
    "df_sp500[\"Close_norm\"] = df_sp500[\"Close\"] / df_sp500[\"Close\"].iloc[0] * 100 #Necesitamos normalizar los datos para que gráficamente se puedan ver bien\n",
    "\n",
    "#Si se ejecuta sin normalizar, visualmente no se pueden sacar los datos\n",
    "\n",
    "# Recorrer cada acción\n",
    "for nombre, ruta in archivos.items():\n",
    "    df_accion = pd.read_excel(ruta)\n",
    "    df_accion[\"Fecha\"] = pd.to_datetime(df_accion[\"Date\"])\n",
    "    df_accion[\"Close_norm\"] = df_accion[\"Close\"] / df_accion[\"Close\"].iloc[0] * 100\n",
    "\n",
    "    # Crear la gráfica\n",
    "    plt.figure(figsize=(10, 5))\n",
    "    plt.plot(df_accion[\"Fecha\"], df_accion[\"Close_norm\"], label=nombre)\n",
    "    plt.plot(df_sp500[\"Fecha\"], df_sp500[\"Close_norm\"], label=\"S&P 500\", linestyle=\"--\")\n",
    "    plt.title(f\"{nombre} vs S&P 500 (Precios Normalizados)\")\n",
    "    plt.xlabel(\"Fecha\")\n",
    "    plt.ylabel(\"Precio Normalizado\")\n",
    "    plt.legend()\n",
    "    plt.grid(True)\n",
    "    plt.tight_layout()\n",
    "    plt.show()"
   ]
  },
  {
   "cell_type": "code",
   "execution_count": null,
   "id": "e9d7f64b",
   "metadata": {},
   "outputs": [],
   "source": []
  }
 ],
 "metadata": {
  "kernelspec": {
   "display_name": "Python 3",
   "language": "python",
   "name": "python3"
  },
  "language_info": {
   "codemirror_mode": {
    "name": "ipython",
    "version": 3
   },
   "file_extension": ".py",
   "mimetype": "text/x-python",
   "name": "python",
   "nbconvert_exporter": "python",
   "pygments_lexer": "ipython3",
   "version": "3.13.0"
  }
 },
 "nbformat": 4,
 "nbformat_minor": 5
}
