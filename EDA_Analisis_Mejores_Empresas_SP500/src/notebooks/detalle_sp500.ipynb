{
 "cells": [
  {
   "cell_type": "code",
   "execution_count": null,
   "id": "c4a0f900",
   "metadata": {},
   "outputs": [],
   "source": [
    "import pandas as pd\n",
    "\n",
    "ruta_excel = \"../data/detalle_acciones_SP500.xlsx\"\n",
    "\n",
    "df_existente = pd.read_excel(ruta_excel)\n",
    "\n",
    "detalle_sp500 = pd.DataFrame({\n",
    "    \"Acción\": [\"S&P 500\"],\n",
    "    \"Rentabilidad Anual (%)\": [25.02],\n",
    "    \"Volatilidad Anual\": [14.53],\n",
    "    \"Ratio de Sharpe\": [0.65],\n",
    "    \"Beta\": [None] \n",
    "})\n",
    "\n",
    "df_actualizado = pd.concat([df_existente, detalle_sp500], ignore_index=True)\n",
    "\n",
    "df_actualizado.to_excel(ruta_excel, index=False)"
   ]
  },
  {
   "cell_type": "code",
   "execution_count": null,
   "id": "80c5f53e",
   "metadata": {},
   "outputs": [
    {
     "name": "stdout",
     "output_type": "stream",
     "text": [
      "✅ Fila duplicada eliminada y columna 'Unnamed: 0' borrada.\n"
     ]
    }
   ],
   "source": [
    "\n",
    "# Cargar el archivo\n",
    "df = pd.read_excel(\"../data/detalle_acciones_SP500.xlsx\")\n",
    "\n",
    "# Eliminar la columna de índice antigua si existe\n",
    "if \"Unnamed: 0\" in df.columns:\n",
    "    df = df.drop(columns=[\"Unnamed: 0\"])\n",
    "\n",
    "# Eliminar duplicados en la columna 'Acción'\n",
    "df = df.drop_duplicates(subset=\"Acción\", keep=\"first\")\n",
    "\n",
    "# Guardar sin índice en el archivo\n",
    "df.to_excel(\"../data/detalle_acciones_SP500.xlsx\", index=False)\n",
    "\n",
    "print(\"✅ Fila duplicada eliminada y columna 'Unnamed: 0' borrada.\")\n",
    "\n",
    "\n"
   ]
  },
  {
   "cell_type": "code",
   "execution_count": null,
   "id": "b2b83baa",
   "metadata": {},
   "outputs": [],
   "source": []
  }
 ],
 "metadata": {
  "kernelspec": {
   "display_name": "Python 3",
   "language": "python",
   "name": "python3"
  },
  "language_info": {
   "codemirror_mode": {
    "name": "ipython",
    "version": 3
   },
   "file_extension": ".py",
   "mimetype": "text/x-python",
   "name": "python",
   "nbconvert_exporter": "python",
   "pygments_lexer": "ipython3",
   "version": "3.13.0"
  }
 },
 "nbformat": 4,
 "nbformat_minor": 5
}
