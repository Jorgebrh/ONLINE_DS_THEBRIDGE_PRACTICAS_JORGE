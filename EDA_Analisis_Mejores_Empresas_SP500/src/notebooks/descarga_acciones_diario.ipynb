{
 "cells": [
  {
   "cell_type": "markdown",
   "id": "e50fbcce",
   "metadata": {},
   "source": [
    "Al utilizar la librería yfinance, si haces muchas peticiones te bloquea la entrada, por ello tuve que hacer este codigo aparte del principal para poder volver a visualizar los datos dado que no los había guardado en excel de primeras ."
   ]
  },
  {
   "cell_type": "code",
   "execution_count": 16,
   "id": "d8239aa0",
   "metadata": {},
   "outputs": [],
   "source": [
    "import pandas as pd\n",
    "import numpy as np\n",
    "import yfinance as yf\n",
    "import sys\n",
    "sys.path.append('../utils')\n",
    "import funciones\n",
    "import importlib\n",
    "importlib.reload(funciones)\n",
    "from funciones import *"
   ]
  },
  {
   "cell_type": "code",
   "execution_count": 17,
   "id": "4f7659af",
   "metadata": {},
   "outputs": [],
   "source": [
    "apple = yf.Ticker(\"AAPL\") #Representa el 6.73% del índice\n",
    "microsoft = yf.Ticker(\"MSFT\") #Representa el 6.20% del índice\n",
    "nvidia = yf.Ticker(\"NVDA\") #Representa el 5.68% del indice\n",
    "amazon = yf.Ticker(\"AMZN\") #Representa el 3.78% del indice\n",
    "meta = yf.Ticker(\"META\") #Representa el 2.57% del indice\n",
    "sp500 = yf.Ticker(\"^GSPC\")"
   ]
  },
  {
   "cell_type": "code",
   "execution_count": 18,
   "id": "dc93cfd2",
   "metadata": {},
   "outputs": [],
   "source": [
    "df_apple = apple.history(start = \"2024-01-01\", end = \"2025-01-01\", interval = \"1d\")\n",
    "df_microsoft = microsoft.history(start = \"2024-01-01\", end = \"2025-01-01\", interval = \"1d\")\n",
    "df_nvidia = nvidia.history(start = \"2024-01-01\", end = \"2025-01-01\", interval = \"1d\")\n",
    "df_amazon = amazon.history(start = \"2024-01-01\", end = \"2025-01-01\", interval = \"1d\")\n",
    "df_meta = meta.history(start = \"2024-01-01\", end = \"2025-01-01\", interval = \"1d\")\n",
    "df_sp500 = sp500.history(start = \"2024-01-01\", end = \"2025-01-01\", interval = \"1d\")"
   ]
  },
  {
   "cell_type": "code",
   "execution_count": 19,
   "id": "f83ba7ef",
   "metadata": {},
   "outputs": [],
   "source": [
    "for df in [df_apple, df_microsoft, df_nvidia, df_amazon, df_meta, df_sp500]:\n",
    "    df.reset_index(inplace=True)\n",
    "    df[\"Date\"] = pd.to_datetime(df[\"Date\"]).dt.tz_localize(None)\n",
    "\n",
    "df_apple.to_excel(\"../data/historico_apple.xlsx\", index=False)\n",
    "df_microsoft.to_excel(\"../data/historico_microsoft.xlsx\", index=False)\n",
    "df_nvidia.to_excel(\"../data/historico_nvidia.xlsx\", index=False)\n",
    "df_amazon.to_excel(\"../data/historico_amazon.xlsx\", index=False)\n",
    "df_meta.to_excel(\"../data/historico_meta.xlsx\", index=False)\n",
    "df_sp500.to_excel(\"../data/historico_sp500.xlsx\", index=False)"
   ]
  },
  {
   "cell_type": "code",
   "execution_count": null,
   "id": "707cb2c3",
   "metadata": {},
   "outputs": [],
   "source": []
  }
 ],
 "metadata": {
  "kernelspec": {
   "display_name": "Python 3",
   "language": "python",
   "name": "python3"
  },
  "language_info": {
   "codemirror_mode": {
    "name": "ipython",
    "version": 3
   },
   "file_extension": ".py",
   "mimetype": "text/x-python",
   "name": "python",
   "nbconvert_exporter": "python",
   "pygments_lexer": "ipython3",
   "version": "3.13.0"
  }
 },
 "nbformat": 4,
 "nbformat_minor": 5
}
