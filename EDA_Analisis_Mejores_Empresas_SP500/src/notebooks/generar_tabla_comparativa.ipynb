{
 "cells": [
  {
   "cell_type": "code",
   "execution_count": 6,
   "id": "f51f240d",
   "metadata": {},
   "outputs": [],
   "source": [
    "import pandas as pd\n",
    "import numpy as np\n"
   ]
  },
  {
   "cell_type": "code",
   "execution_count": 7,
   "id": "ba6cd054",
   "metadata": {},
   "outputs": [],
   "source": [
    "df_completo = pd.read_excel(\"../data/detalle_acciones_SP500.xlsx\")\n",
    "\n",
    "rentabilidad_indice = df_completo.loc[df_completo[\"Acción\"] == \"S&P 500\", \"Rentabilidad Anual (%)\"].values[0]\n",
    "\n",
    "df_completo[\"Rentabilidad Comparada con el índice\"] = df_completo[\"Rentabilidad Anual (%)\"] - rentabilidad_indice\n",
    "\n",
    "df_completo.to_excel(\"../data/tabla_comparativa.xlsx\", index=False)\n",
    "\n",
    "\n"
   ]
  }
 ],
 "metadata": {
  "kernelspec": {
   "display_name": "Python 3",
   "language": "python",
   "name": "python3"
  },
  "language_info": {
   "codemirror_mode": {
    "name": "ipython",
    "version": 3
   },
   "file_extension": ".py",
   "mimetype": "text/x-python",
   "name": "python",
   "nbconvert_exporter": "python",
   "pygments_lexer": "ipython3",
   "version": "3.13.0"
  }
 },
 "nbformat": 4,
 "nbformat_minor": 5
}
